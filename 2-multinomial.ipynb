{
 "cells": [
  {
   "cell_type": "markdown",
   "id": "greek-sussex",
   "metadata": {},
   "source": [
    "# LAB 5: Text classification with Naive Bayes\n",
    "\n",
    "Objectives:\n",
    "\n",
    "* Train and evaluate Naive Bayes text classifiers\n",
    "* Cross-validation\n",
    "* Hyperparameter search"
   ]
  },
  {
   "cell_type": "code",
   "execution_count": null,
   "id": "computational-intelligence",
   "metadata": {},
   "outputs": [],
   "source": [
    "import numpy as np\n",
    "import pandas as pd\n",
    "from cytoolz import *\n",
    "from tqdm.auto import tqdm\n",
    "\n",
    "tqdm.pandas()"
   ]
  },
  {
   "cell_type": "markdown",
   "id": "african-screen",
   "metadata": {},
   "source": [
    "### Load and preprocess data"
   ]
  },
  {
   "cell_type": "code",
   "execution_count": null,
   "id": "reduced-argentina",
   "metadata": {},
   "outputs": [],
   "source": [
    "df = pd.read_parquet(\n",
    "    \"s3://ling583/rcv1-politics.parquet\", storage_options={\"anon\": True}\n",
    ")"
   ]
  },
  {
   "cell_type": "code",
   "execution_count": null,
   "id": "accessory-remark",
   "metadata": {},
   "outputs": [],
   "source": [
    "import spacy\n",
    "\n",
    "nlp = spacy.load(\n",
    "    \"en_core_web_sm\",\n",
    "    exclude=[\"tagger\", \"parser\", \"ner\", \"lemmatizer\", \"attribute_ruler\"],\n",
    ")"
   ]
  },
  {
   "cell_type": "code",
   "execution_count": null,
   "id": "public-quarterly",
   "metadata": {},
   "outputs": [],
   "source": [
    "def tokenize(text):\n",
    "    doc = nlp.tokenizer(text)\n",
    "    return [t.norm_ for t in doc if t.is_alpha]"
   ]
  },
  {
   "cell_type": "code",
   "execution_count": null,
   "id": "checked-vessel",
   "metadata": {},
   "outputs": [],
   "source": [
    "df[\"tokens\"] = df[\"text\"].progress_apply(tokenize)"
   ]
  },
  {
   "cell_type": "markdown",
   "id": "dying-aggregate",
   "metadata": {},
   "source": [
    "----\n",
    "\n",
    "### Multinomial Naive Bayes"
   ]
  },
  {
   "cell_type": "code",
   "execution_count": 1,
   "id": "saved-ballet",
   "metadata": {},
   "outputs": [],
   "source": [
    "from sklearn.feature_extraction.text import CountVectorizer\n",
    "from sklearn.naive_bayes import MultinomialNB\n",
    "from sklearn.pipeline import make_pipeline"
   ]
  },
  {
   "cell_type": "markdown",
   "id": "familiar-bouquet",
   "metadata": {},
   "source": [
    "Set up a pipeline: first convert tokenized text into feature vectors, then apply naive Bayes classifier"
   ]
  },
  {
   "cell_type": "code",
   "execution_count": null,
   "id": "approved-style",
   "metadata": {},
   "outputs": [],
   "source": [
    "mnb = make_pipeline(CountVectorizer(analyzer=identity), BernoulliNB())"
   ]
  },
  {
   "cell_type": "code",
   "execution_count": null,
   "id": "fitted-strain",
   "metadata": {},
   "outputs": [],
   "source": [
    "predicted = cross_val_predict(mnb, df[\"tokens\"], df[\"pol\"], cv=cv, n_jobs=-1)\n",
    "print(classification_report(df[\"pol\"], predicted))"
   ]
  },
  {
   "cell_type": "markdown",
   "id": "controlling-commander",
   "metadata": {},
   "source": [
    "---\n",
    "\n",
    "### Hyperparameter search"
   ]
  },
  {
   "cell_type": "code",
   "execution_count": null,
   "id": "environmental-identification",
   "metadata": {},
   "outputs": [],
   "source": []
  },
  {
   "cell_type": "markdown",
   "id": "individual-kruger",
   "metadata": {},
   "source": [
    "---\n",
    "\n",
    "### Evaluate final model"
   ]
  },
  {
   "cell_type": "code",
   "execution_count": null,
   "id": "experimental-suicide",
   "metadata": {},
   "outputs": [],
   "source": [
    "mbnb.set_params(...)"
   ]
  },
  {
   "cell_type": "code",
   "execution_count": null,
   "id": "impossible-firewall",
   "metadata": {},
   "outputs": [],
   "source": [
    "predicted = cross_val_predict(mnb, df[\"tokens\"], df[\"pol\"], cv=cv, n_jobs=-1)\n",
    "print(classification_report(df[\"pol\"], predicted))"
   ]
  }
 ],
 "metadata": {
  "kernelspec": {
   "display_name": "Python 3",
   "language": "python",
   "name": "python3"
  },
  "language_info": {
   "codemirror_mode": {
    "name": "ipython",
    "version": 3
   },
   "file_extension": ".py",
   "mimetype": "text/x-python",
   "name": "python",
   "nbconvert_exporter": "python",
   "pygments_lexer": "ipython3",
   "version": "3.8.6"
  }
 },
 "nbformat": 4,
 "nbformat_minor": 5
}
